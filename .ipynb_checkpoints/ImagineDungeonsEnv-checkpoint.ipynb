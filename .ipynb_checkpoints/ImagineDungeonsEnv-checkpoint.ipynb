{
 "cells": [
  {
   "cell_type": "code",
   "execution_count": null,
   "id": "a093062b",
   "metadata": {},
   "outputs": [],
   "source": [
    "from matplotlib import pyplot as plt\n",
    "\n",
    "import time\n",
    "\n",
    "from gym import Env\n",
    "from gym.spaces import Box, Discrete"
   ]
  },
  {
   "cell_type": "code",
   "execution_count": null,
   "id": "5d1c3570",
   "metadata": {},
   "outputs": [],
   "source": [
    "class ImagineDungeonsEnv(Env):\n",
    "    # setup the environment action and observation shapes\n",
    "    def __init__(self):\n",
    "        super().__init__()\n",
    "        \n",
    "        # setup spaces\n",
    "        self.observation_space = Box(low=0, high=255, shape(1, ))\n",
    "        # height: 640px;\n",
    "        # width: 960px;\n",
    "        pass\n",
    "    # what is called to do something in the game\n",
    "    def step(self, action):\n",
    "        pass\n",
    "    # visualize the game\n",
    "    def render(self):\n",
    "        pass\n",
    "    # restart the game\n",
    "    def reset(self):\n",
    "        pass\n",
    "    # closes down observation\n",
    "    def close(self):\n",
    "        pass\n",
    "    # \n",
    "    def get_observation(self):\n",
    "        pass\n",
    "    def get_done(self):\n",
    "        pass"
   ]
  },
  {
   "cell_type": "code",
   "execution_count": 2,
   "id": "79d058f2",
   "metadata": {},
   "outputs": [],
   "source": [
    "import gym\n",
    "from gym import spaces\n",
    "\n",
    "class ImagineDungeonsEnv(gym.env):\n",
    "    \"\"\"Custom Environment that follows gym interface\"\"\"\n",
    "    \n",
    "    def __init__(self, arg1, arg2, ...):\n",
    "        super(CustomEnv, self).__init__()\n",
    "        # Define action and observation space\n",
    "        # They must be gym.spaces objects\n",
    "        # Example when using discrete actions:\n",
    "        self.action_space = spaces.Discrete(N_DISCRETE_ACTIONS)\n",
    "        # Example for using image as input:\n",
    "        self.observation_space = spaces.Box(low=0, high=255, shape=\n",
    "                        (HEIGHT, WIDTH, N_CHANNELS), dtype=np.uint8)\n",
    "        \n",
    "    def step(self, action):\n",
    "    # Execute one time step within the environment\n",
    "    ...\n",
    "    def reset(self):\n",
    "    # Reset the state of the environment to an initial state\n",
    "    ...\n",
    "    def render(self, mode='human', close=False):\n",
    "    # Render the environment to the screen\n",
    "    ..."
   ]
  }
 ],
 "metadata": {
  "kernelspec": {
   "display_name": "Python 3 (ipykernel)",
   "language": "python",
   "name": "python3"
  },
  "language_info": {
   "codemirror_mode": {
    "name": "ipython",
    "version": 3
   },
   "file_extension": ".py",
   "mimetype": "text/x-python",
   "name": "python",
   "nbconvert_exporter": "python",
   "pygments_lexer": "ipython3",
   "version": "3.10.9"
  }
 },
 "nbformat": 4,
 "nbformat_minor": 5
}
